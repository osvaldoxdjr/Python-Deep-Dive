{
 "cells": [
  {
   "cell_type": "code",
   "execution_count": 82,
   "id": "906c489b",
   "metadata": {},
   "outputs": [],
   "source": [
    "from collections import namedtuple, defaultdict\n",
    "from datetime import datetime\n",
    "\n",
    "def conv_row(row, types):\n",
    "    mod_row = []\n",
    "    for element, type_, in zip(row, types):\n",
    "        if type_ == 'int':\n",
    "            mod_row.append(int(element))\n",
    "        elif type_ == 'date':\n",
    "            mod_row.append(datetime.strptime(element, '%m/%d/%Y').date())\n",
    "        else:\n",
    "            mod_row.append(str(element))\n",
    "    return mod_row\n",
    "            \n",
    "def file_iter():\n",
    "    types = ('int', 'string', 'string',\n",
    "             'string', 'date', 'int',\n",
    "             'string', 'string','string')\n",
    "    \n",
    "    with open('nyc_parking_tickets_extract.csv') as f:\n",
    "        header = next(f).lower().strip('\\n').replace(' ', '_').split(',')\n",
    "        park_ticket = namedtuple('part_ticket', header)\n",
    "        for line in f:\n",
    "            row = line.strip('\\n').split(',', maxsplit=len(header)-1)\n",
    "            yield park_ticket(*conv_row(row, types))"
   ]
  },
  {
   "cell_type": "code",
   "execution_count": 83,
   "id": "d6fc2854",
   "metadata": {},
   "outputs": [],
   "source": [
    "def violations_per_car_make(iterator):\n",
    "    violations = defaultdict(int)\n",
    "    for row in iterator:\n",
    "        car_make = row.vehicle_make\n",
    "        if car_make:\n",
    "            violations[car_make] += 1\n",
    "    return {make:cnt for make, cnt in sorted(violations.items(),\n",
    "                       key= lambda x: x[1], \n",
    "                       reverse=True)}"
   ]
  }
 ],
 "metadata": {
  "kernelspec": {
   "display_name": "Python 3 (ipykernel)",
   "language": "python",
   "name": "python3"
  },
  "language_info": {
   "codemirror_mode": {
    "name": "ipython",
    "version": 3
   },
   "file_extension": ".py",
   "mimetype": "text/x-python",
   "name": "python",
   "nbconvert_exporter": "python",
   "pygments_lexer": "ipython3",
   "version": "3.9.7"
  }
 },
 "nbformat": 4,
 "nbformat_minor": 5
}
